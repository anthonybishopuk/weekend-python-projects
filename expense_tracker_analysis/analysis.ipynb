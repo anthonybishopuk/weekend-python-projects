{
 "cells": [
  {
   "cell_type": "code",
   "execution_count": 8,
   "id": "ccdacbcb-5e38-4a24-8bfc-9f95d94003bc",
   "metadata": {},
   "outputs": [],
   "source": [
    "import pandas as pd\n",
    "import matplotlib.pyplot as plt\n",
    "import seaborn as sns\n",
    "from pathlib import Path"
   ]
  },
  {
   "cell_type": "code",
   "execution_count": 9,
   "id": "1f03c603-9f24-4f9f-9917-216800afbea0",
   "metadata": {},
   "outputs": [],
   "source": [
    "pd.set_option(\"display.max_rows\", 10)\n",
    "pd.set_option(\"display.max_columns\", None)\n",
    "sns.set_theme(style=\"whitegrid\")"
   ]
  },
  {
   "cell_type": "code",
   "execution_count": 10,
   "id": "b19b106c",
   "metadata": {},
   "outputs": [
    {
     "name": "stdout",
     "output_type": "stream",
     "text": [
      "cleaned column names: ['purchase_date', 'expense', 'amount', 'category']\n",
      "  purchase_date     expense  amount   category\n",
      "0    2025-01-06      Coffee    2.80       Food\n",
      "1    2025-01-06  Bus Ticket    3.50  Transport\n",
      "2    2025-02-06       Lunch    8.75       Food\n",
      "3    2025-02-06   Groceries   52.40       Food\n",
      "4    2025-03-06      Petrol   60.00  Transport\n"
     ]
    }
   ],
   "source": [
    "path = Path(\"expenses_jul25.csv\")\n",
    "df = pd.read_csv(path, sep=\",\")\n",
    "df.columns = (\n",
    "    df.columns\n",
    "    .str.strip()\n",
    "    .str.lower()\n",
    ")\n",
    "print(\"cleaned column names:\", df.columns.tolist())\n",
    "if \"purchase_date\" in df.columns:\n",
    "    df[\"purchase_date\"] = pd.to_datetime(df[\"purchase_date\"], errors=\"coerce\")\n",
    "\n",
    "print(df.head())"
   ]
  },
  {
   "cell_type": "code",
   "execution_count": 11,
   "id": "1c09bb57",
   "metadata": {},
   "outputs": [],
   "source": [
    "\n",
    "def load_expenses(path):\n",
    "    df = pd.read_csv(path, parse_dates=[\"purchase_date\"])\n",
    "    df.columns = df.columns.str.strip().str.lower()\n",
    "    return df"
   ]
  },
  {
   "cell_type": "code",
   "execution_count": 12,
   "id": "a6a1e1f0",
   "metadata": {},
   "outputs": [],
   "source": [
    "def summarise_expenses(df):\n",
    "    \"\"\"Print quick stats about the dataset.\"\"\"\n",
    "    print(df.head())\n",
    "    print(df.info())\n",
    "    print(df.describe())"
   ]
  },
  {
   "cell_type": "code",
   "execution_count": 13,
   "id": "2c233c74",
   "metadata": {},
   "outputs": [],
   "source": [
    "def plot_expenses_by_category(df):\n",
    "    \"\"\"Show a bar chart of total expenses by category.\"\"\"\n",
    "    totals = df.groupby(\"category\")[\"amount\"].sum().sort_values(ascending=False)\n",
    "    plt.figure(figsize=(8,5))\n",
    "    sns.barplot(x=totals.values, y=totals.index, palette=\"viridis\")\n",
    "    plt.title(\"Total Expenses by Category\")\n",
    "    plt.xlabel(\"Amount (£)\")\n",
    "    plt.ylabel(\"Category\")\n",
    "    plt.tight_layout()\n",
    "    plt.show()"
   ]
  },
  {
   "cell_type": "code",
   "execution_count": 14,
   "id": "65652a1d",
   "metadata": {},
   "outputs": [
    {
     "name": "stdout",
     "output_type": "stream",
     "text": [
      "  purchase_date     expense  amount   category\n",
      "0    2025-01-06      Coffee    2.80       Food\n",
      "1    2025-01-06  Bus Ticket    3.50  Transport\n",
      "2    2025-02-06       Lunch    8.75       Food\n",
      "3    2025-02-06   Groceries   52.40       Food\n",
      "4    2025-03-06      Petrol   60.00  Transport\n",
      "<class 'pandas.core.frame.DataFrame'>\n",
      "RangeIndex: 100 entries, 0 to 99\n",
      "Data columns (total 4 columns):\n",
      " #   Column         Non-Null Count  Dtype         \n",
      "---  ------         --------------  -----         \n",
      " 0   purchase_date  100 non-null    datetime64[ns]\n",
      " 1   expense        100 non-null    object        \n",
      " 2   amount         100 non-null    float64       \n",
      " 3   category       100 non-null    object        \n",
      "dtypes: datetime64[ns](1), float64(1), object(2)\n",
      "memory usage: 3.2+ KB\n",
      "None\n",
      "           amount\n",
      "count  100.000000\n",
      "mean    31.877000\n",
      "std     33.788485\n",
      "min      2.200000\n",
      "25%      7.567500\n",
      "50%     17.650000\n",
      "75%     54.025000\n",
      "max    122.000000\n"
     ]
    },
    {
     "data": {
      "image/png": "[encoded data removed]",
      "text/plain": [
       "<Figure size 576x360 with 1 Axes>"
      ]
     },
     "metadata": {},
     "output_type": "display_data"
    }
   ],
   "source": [
    "def main():\n",
    "    df = load_expenses(\"expenses_jul25.csv\")\n",
    "    summarise_expenses(df)\n",
    "    plot_expenses_by_category(df)\n",
    "\n",
    "if __name__ == \"__main__\":\n",
    "    main()"
   ]
  },
  {
   "cell_type": "code",
   "execution_count": 15,
   "id": "c6b87b1d",
   "metadata": {},
   "outputs": [
    {
     "name": "stdout",
     "output_type": "stream",
     "text": [
      "Index(['purchase_date', ' expense', ' amount', ' category'], dtype='object')\n"
     ]
    }
   ],
   "source": [
    "path = \"expenses_jul25.csv\"\n",
    "df = pd.read_csv(path)\n",
    "print(df.columns)"
   ]
  },
  {
   "cell_type": "code",
   "execution_count": 16,
   "id": "d27cc4d5",
   "metadata": {},
   "outputs": [
    {
     "name": "stdout",
     "output_type": "stream",
     "text": [
      "purchase_date, expense, amount, category\n",
      "\n",
      "01/06/2025,Coffee,2.8,Food\n",
      "\n",
      "01/06/2025,Bus Ticket,3.5,Transport\n",
      "\n",
      "02/06/2025,Lunch,8.75,Food\n",
      "\n",
      "02/06/2025,Groceries,52.4,Food\n",
      "\n"
     ]
    }
   ],
   "source": [
    "with open(path) as f:\n",
    "    for i in range(5):\n",
    "        print(f.readline())"
   ]
  },
  {
   "cell_type": "code",
   "execution_count": null,
   "id": "104cd08a",
   "metadata": {},
   "outputs": [],
   "source": []
  }
 ],
 "metadata": {
  "kernelspec": {
   "display_name": "Python (expense-env)",
   "language": "python",
   "name": "expense-env"
  },
  "language_info": {
   "codemirror_mode": {
    "name": "ipython",
    "version": 3
   },
   "file_extension": ".py",
   "mimetype": "text/x-python",
   "name": "python",
   "nbconvert_exporter": "python",
   "pygments_lexer": "ipython3",
   "version": "3.6.5"
  }
 },
 "nbformat": 4,
 "nbformat_minor": 5
}
